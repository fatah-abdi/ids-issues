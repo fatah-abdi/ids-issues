{
  "nbformat": 4,
  "nbformat_minor": 0,
  "metadata": {
    "colab": {
      "name": "tgan-notofficel.ipynb",
      "provenance": [],
      "private_outputs": true,
      "collapsed_sections": [],
      "include_colab_link": true
    },
    "kernelspec": {
      "name": "python3",
      "display_name": "Python 3"
    },
    "language_info": {
      "name": "python"
    }
  },
  "cells": [
    {
      "cell_type": "markdown",
      "metadata": {
        "id": "view-in-github",
        "colab_type": "text"
      },
      "source": [
        "<a href=\"https://colab.research.google.com/github/fatah-abdi/ids-issues/blob/main/ids/tgan_notofficel.ipynb\" target=\"_parent\"><img src=\"https://colab.research.google.com/assets/colab-badge.svg\" alt=\"Open In Colab\"/></a>"
      ]
    },
    {
      "cell_type": "code",
      "source": [
        "from google.colab import drive\n",
        "drive.mount('/content/drive')"
      ],
      "metadata": {
        "id": "tbLcV4SwYXJC"
      },
      "execution_count": null,
      "outputs": []
    },
    {
      "cell_type": "code",
      "source": [
        "\n",
        "import numpy as np\n",
        "import pandas as pd\n",
        "from sklearn.model_selection import train_test_split\n",
        "mydf=pd.read_csv('//content/drive/MyDrive/dataset/CICIDS2017_sample_km.csv')\n",
        "mydf[' Label'].value_counts().head(20)"
      ],
      "metadata": {
        "id": "BTAT_VASfjvO"
      },
      "execution_count": null,
      "outputs": []
    },
    {
      "cell_type": "code",
      "source": [
        "mydf"
      ],
      "metadata": {
        "id": "jQm7-rfpq-nK"
      },
      "execution_count": null,
      "outputs": []
    },
    {
      "cell_type": "code",
      "source": [
        "pip install tgan"
      ],
      "metadata": {
        "id": "Jqjwm9erC3cj"
      },
      "execution_count": null,
      "outputs": []
    },
    {
      "cell_type": "code",
      "source": [
        "from tgan.model import TGANModel"
      ],
      "metadata": {
        "id": "A86iGfeJGqcd"
      },
      "execution_count": null,
      "outputs": []
    },
    {
      "cell_type": "code",
      "source": [
        "continuous_columns = [ ' Flow Duration', ' Total Fwd Packets',\n",
        "       ' Total Backward Packets', 'Total Length of Fwd Packets',\n",
        "       ' Total Length of Bwd Packets', ' Fwd Packet Length Max',\n",
        "       ' Fwd Packet Length Min', ' Fwd Packet Length Mean',\n",
        "       ' Fwd Packet Length Std', 'Bwd Packet Length Max',\n",
        "       ' Bwd Packet Length Min', ' Bwd Packet Length Mean',\n",
        "       ' Bwd Packet Length Std', 'Flow Bytes/s', ' Flow Packets/s',\n",
        "       ' Flow IAT Mean', ' Flow IAT Std', ' Flow IAT Max', ' Flow IAT Min',\n",
        "       'Fwd IAT Total', ' Fwd IAT Mean', ' Fwd IAT Std', ' Fwd IAT Max',\n",
        "       ' Fwd IAT Min', 'Bwd IAT Total', ' Bwd IAT Mean', ' Bwd IAT Std',\n",
        "       ' Bwd IAT Max', ' Bwd IAT Min', 'Fwd PSH Flags', ' Bwd PSH Flags',\n",
        "       ' Fwd URG Flags', ' Bwd URG Flags', ' Fwd Header Length',\n",
        "       ' Bwd Header Length', 'Fwd Packets/s', ' Bwd Packets/s',\n",
        "       ' Min Packet Length', ' Max Packet Length', ' Packet Length Mean',\n",
        "       ' Packet Length Std', ' Packet Length Variance', 'FIN Flag Count',\n",
        "       ' SYN Flag Count', ' RST Flag Count', ' PSH Flag Count',\n",
        "       ' ACK Flag Count', ' URG Flag Count', ' CWE Flag Count',\n",
        "       ' ECE Flag Count', ' Down/Up Ratio', ' Average Packet Size',\n",
        "       ' Avg Fwd Segment Size', ' Avg Bwd Segment Size',\n",
        "       ' Fwd Header Length.1', 'Fwd Avg Bytes/Bulk', ' Fwd Avg Packets/Bulk',\n",
        "       ' Fwd Avg Bulk Rate', ' Bwd Avg Bytes/Bulk', ' Bwd Avg Packets/Bulk',\n",
        "       'Bwd Avg Bulk Rate', 'Subflow Fwd Packets', ' Subflow Fwd Bytes',\n",
        "       ' Subflow Bwd Packets', ' Subflow Bwd Bytes', 'Init_Win_bytes_forward',\n",
        "       ' Init_Win_bytes_backward', ' act_data_pkt_fwd',\n",
        "       ' min_seg_size_forward', 'Active Mean', ' Active Std', ' Active Max',\n",
        "       ' Active Min', 'Idle Mean', ' Idle Std', ' Idle Max', ' Idle Min']"
      ],
      "metadata": {
        "id": "wNyNnwY5tzCx"
      },
      "execution_count": null,
      "outputs": []
    },
    {
      "cell_type": "code",
      "source": [
        "mydf_9 = mydf[(mydf[' Label']==10)|(mydf[' Label']==6)]"
      ],
      "metadata": {
        "id": "zLiKCcz7TNNO"
      },
      "execution_count": null,
      "outputs": []
    },
    {
      "cell_type": "code",
      "source": [
        "tgan = TGANModel(\n",
        "   ...:     continuous_columns,\n",
        "   ...:     output='output',\n",
        "   ...:     max_epoch=50,\n",
        "   ...:     steps_per_epoch=100,\n",
        "   ...:     save_checkpoints=True,\n",
        "   ...:     restore_session=False,\n",
        "   ...:     batch_size=10,\n",
        "   ...:     z_dim=20,\n",
        "   ...:     noise=0.2,\n",
        "   ...:     l2norm=0.00001,\n",
        "   ...:     learning_rate=0.00005,\n",
        "   ...:     num_gen_rnn=100,\n",
        "   ...:     num_gen_feature=78,\n",
        "   ...:     num_dis_layers=1,\n",
        "   ...:     num_dis_hidden=100,\n",
        "   ...:     optimizer='AdamOptimizer'\n",
        "   ...: )"
      ],
      "metadata": {
        "id": "rhualCs7YeRu"
      },
      "execution_count": null,
      "outputs": []
    },
    {
      "cell_type": "code",
      "source": [
        "tgan.fit(mydf_9)"
      ],
      "metadata": {
        "id": "JRGqM5DfYreD"
      },
      "execution_count": null,
      "outputs": []
    },
    {
      "cell_type": "code",
      "source": [
        "num_samples = 5000\n",
        "new_data8 = tgan.sample(num_samples)\n"
      ],
      "metadata": {
        "id": "usKu_HZQimbX"
      },
      "execution_count": null,
      "outputs": []
    },
    {
      "cell_type": "code",
      "source": [
        "new_data8\n"
      ],
      "metadata": {
        "id": "eX_Jt9ryuna1"
      },
      "execution_count": null,
      "outputs": []
    },
    {
      "cell_type": "code",
      "source": [
        "pd.DataFrame(new_data8).to_csv('//content/drive/MyDrive/dataset/new_data111113.csv',index=0)"
      ],
      "metadata": {
        "id": "ch382D06myyF"
      },
      "execution_count": null,
      "outputs": []
    },
    {
      "cell_type": "markdown",
      "source": [
        "@article{xu2018synthesizing,\n",
        "  title={Synthesizing Tabular Data using Generative Adversarial Networks},\n",
        "  author={Xu, Lei and Veeramachaneni, Kalyan},\n",
        "  journal={arXiv preprint arXiv:1811.11264},\n",
        "  year={2018}\n",
        "}"
      ],
      "metadata": {
        "id": "ZRZman8SruGI"
      }
    }
  ]
}